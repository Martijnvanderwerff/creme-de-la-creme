{
 "cells": [
  {
   "cell_type": "code",
   "execution_count": 4,
   "metadata": {},
   "outputs": [],
   "source": [
    "import yaml\n",
    "import pandas as pd\n",
    "import os\n",
    "import numpy as np\n",
    "import panel as pn\n",
    "import sys"
   ]
  },
  {
   "cell_type": "code",
   "execution_count": 12,
   "metadata": {},
   "outputs": [
    {
     "name": "stdout",
     "output_type": "stream",
     "text": [
      "barcode13_1L_t1.bracken\n",
      "barcode14_1R_t1.bracken\n",
      "barcode15_2L_t1.bracken\n",
      "barcode16_2R_t1.bracken\n",
      "barcode17_3L_t1.bracken\n",
      "barcode18_3R_t1.bracken\n",
      "barcode19_4L_t1.bracken\n",
      "barcode20_4R_t1.bracken\n",
      "barcode21_5L_t1.bracken\n",
      "barcode22_5R_t1.bracken\n",
      "barcode23_6L_t1.bracken\n",
      "barcode24_6R_t1.bracken\n",
      "barcode12_6Bt.bracken\n",
      "barcode11_6At.bracken\n",
      "barcode10_5Bv.bracken\n",
      "barcode09_5Av.bracken\n",
      "barcode08_4Bm.bracken\n",
      "barcode07_4Am.bracken\n",
      "barcode06_3Bh.bracken\n",
      "barcode05_3Ah.bracken\n",
      "barcode04_2Ax.bracken\n",
      "barcode03_2Bx.bracken\n",
      "barcode01_1Aa.bracken\n",
      "barcode02_1Aa.bracken\n"
     ]
    }
   ],
   "source": [
    "# Function to get config file\n",
    "def get_config():\n",
    "    with open(\"config.yaml\", 'r') as stream:\n",
    "        config = yaml.safe_load(stream)\n",
    "    return config\n",
    "\n",
    "# Fetch config file\n",
    "config = get_config()\n",
    "\n",
    "try:\n",
    "    main_folder = os.listdir(config['data-folder'])\n",
    "    barcodefolder = []\n",
    "    for folder in main_folder:\n",
    "        if folder.startswith('barcode'):\n",
    "            barcodefolder.append(config['data-folder'] + folder+ '/')\n",
    "    for barcode in barcodefolder:\n",
    "        bracken_files = os.listdir(barcode)\n",
    "        for file in bracken_files:\n",
    "            if file.endswith('.bracken'):\n",
    "                with open(barcode+file, 'r', encoding='utf-8') as f:\n",
    "                    df = pd.read_csv(f, sep='\\t')\n",
    "# Prints exception and sys quits\n",
    "except OSError:\n",
    "    print(\"Could not open/read file: \", file)\n",
    "    sys.exit()"
   ]
  },
  {
   "cell_type": "code",
   "execution_count": null,
   "metadata": {},
   "outputs": [],
   "source": []
  }
 ],
 "metadata": {
  "kernelspec": {
   "display_name": "Python 3 (ipykernel)",
   "language": "python",
   "name": "python3"
  },
  "language_info": {
   "codemirror_mode": {
    "name": "ipython",
    "version": 3
   },
   "file_extension": ".py",
   "mimetype": "text/x-python",
   "name": "python",
   "nbconvert_exporter": "python",
   "pygments_lexer": "ipython3",
   "version": "3.10.8"
  },
  "orig_nbformat": 4,
  "vscode": {
   "interpreter": {
    "hash": "6b91fa5cffef32cb10787a50fea9666676a7951181e01280b4644cd70c964bf4"
   }
  }
 },
 "nbformat": 4,
 "nbformat_minor": 2
}
