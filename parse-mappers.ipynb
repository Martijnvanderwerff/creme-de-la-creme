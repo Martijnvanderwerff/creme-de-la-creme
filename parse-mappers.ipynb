{
 "cells": [
  {
   "cell_type": "markdown",
   "metadata": {},
   "source": [
    "## Using this following bash we find 74811 reads in the file we use to test the two tools:\n",
    "\n",
    "grep \">\" test.fa | wc -l"
   ]
  },
  {
   "cell_type": "code",
   "execution_count": 15,
   "metadata": {
    "vscode": {
     "languageId": "python"
    }
   },
   "outputs": [],
   "source": [
    "import pandas as pd\n",
    "import os\n",
    "\n",
    "os.getcwd()\n",
    "\n",
    "df = pd.read_table(\"/students/2022-2023/master/creme_de_la_creme/mapseq-test/mapseq-1.2.6-linux/barcode20-mapseq.mseq\", sep='\\t', skiprows=[0])"
   ]
  },
  {
   "cell_type": "code",
   "execution_count": 22,
   "metadata": {
    "vscode": {
     "languageId": "python"
    }
   },
   "outputs": [
    {
     "name": "stdout",
     "output_type": "stream",
     "text": [
      "Species count: 74811\n",
      "Unique families: 117\n",
      "Unique species: 466\n"
     ]
    },
    {
     "data": {
      "text/plain": [
       "74811"
      ]
     },
     "execution_count": 22,
     "metadata": {},
     "output_type": "execute_result"
    }
   ],
   "source": [
    "print(\"Species count: {}\".format(df['Species'].count()))\n",
    "print(\"Unique families: {}\".format(df['Family'].nunique()))\n",
    "print(\"Unique species: {}\".format(df['Species'].nunique()))\n"
   ]
  },
  {
   "cell_type": "markdown",
   "metadata": {},
   "source": [
    "# Entrez mapping NCBI refseq identifiers \n"
   ]
  },
  {
   "cell_type": "markdown",
   "metadata": {},
   "source": [
    "### Command line option: \n",
    "\n",
    "See ~/Master/creme-de-la-creme/minimap2-blastn/blast.sh"
   ]
  },
  {
   "cell_type": "code",
   "execution_count": 8,
   "metadata": {
    "vscode": {
     "languageId": "python"
    }
   },
   "outputs": [],
   "source": [
    "df_blastn = pd.read_table(\"/students/2022-2023/master/creme_de_la_creme/output-blastn/barcode10.txt\", \n",
    "                          sep=\"\\t\", header=None)"
   ]
  },
  {
   "cell_type": "code",
   "execution_count": 56,
   "metadata": {
    "vscode": {
     "languageId": "python"
    }
   },
   "outputs": [
    {
     "name": "stdout",
     "output_type": "stream",
     "text": [
      "Total number of reads as input: 74811\n",
      "\n",
      "Amount of reads mapped to species:  38305\n",
      "Number of species:  38305\n",
      "Amount of unique reads mapped to species:  36939\n",
      "Number of unique species:  1240\n",
      "Number of species not mapped:  0\n"
     ]
    }
   ],
   "source": [
    "print(\"Total number of reads as input: 74811\\n\")\n",
    "\n",
    "print(\"Amount of reads mapped to species: \", df_blastn[0].count())\n",
    "print(\"Number of species: \", df_blastn[12].count())\n",
    "print(\"Amount of unique reads mapped to species: \", df_blastn[0].nunique())\n",
    "print(\"Number of unique species: \", df_blastn[12].nunique())\n",
    "print(\"Number of species not mapped: \", df_blastn[12].isna().sum())\n"
   ]
  },
  {
   "cell_type": "code",
   "execution_count": null,
   "metadata": {
    "vscode": {
     "languageId": "python"
    }
   },
   "outputs": [],
   "source": []
  }
 ],
 "metadata": {
  "kernelspec": {
   "display_name": "Python 3 (ipykernel)",
   "language": "python",
   "name": "python3"
  },
  "orig_nbformat": 4
 },
 "nbformat": 4,
 "nbformat_minor": 2
}
